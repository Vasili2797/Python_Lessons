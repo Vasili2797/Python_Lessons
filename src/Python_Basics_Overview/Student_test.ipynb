{
 "cells": [
  {
   "cell_type": "code",
   "execution_count": 4,
   "metadata": {},
   "outputs": [],
   "source": [
    "from Student import Student"
   ]
  },
  {
   "cell_type": "code",
   "execution_count": 14,
   "metadata": {},
   "outputs": [],
   "source": [
    "student1 = Student(\"Jim\", \"Business\", 3.1, False)\n",
    "student2=Student(\"Pam\", \"Art\", 2.5, True)"
   ]
  },
  {
   "cell_type": "code",
   "execution_count": 15,
   "metadata": {},
   "outputs": [
    {
     "name": "stdout",
     "output_type": "stream",
     "text": [
      "3.1\n"
     ]
    }
   ],
   "source": [
    "print(student1.gpa)"
   ]
  },
  {
   "cell_type": "code",
   "execution_count": 16,
   "metadata": {},
   "outputs": [
    {
     "name": "stdout",
     "output_type": "stream",
     "text": [
      "Pam\n"
     ]
    }
   ],
   "source": [
    "print(student2.name)"
   ]
  },
  {
   "cell_type": "code",
   "execution_count": 2,
   "metadata": {},
   "outputs": [],
   "source": [
    "from Questions import Questions\n",
    "question_prompts=[\n",
    "    \"What color are apples?\\n(a) Red/Green\\n(b) Purple\\n(c) Orange\\n\\n\",\n",
    "    \"What color are bananas?\\n(a) Teal\\n(b) Magenta\\n(c) Yellow\\n\\n\",\n",
    "    \"What color are strawberries\\n(a) Yellow\\n(b) Red\\n(c) Blue\\n\\n\"\n",
    "]\n",
    "\n",
    "questions=[\n",
    "    Questions(question_prompts[0], \"a\"),\n",
    "    Questions(question_prompts[1], \"c\"),\n",
    "    Questions(question_prompts[2], \"b\"),\n",
    "]"
   ]
  },
  {
   "cell_type": "code",
   "execution_count": 3,
   "metadata": {},
   "outputs": [
    {
     "name": "stdin",
     "output_type": "stream",
     "text": [
      "What color are apples?\n",
      "(a) Red/Green\n",
      "(b) Purple\n",
      "(c) Orange\n",
      "\n",
      " a\n",
      "What color are bananas?\n",
      "(a) Teal\n",
      "(b) Magenta\n",
      "(c) Yellow\n",
      "\n",
      " c\n",
      "What color are strawberries\n",
      "(a) Yellow\n",
      "(b) Red\n",
      "(c) Blue\n",
      "\n",
      " d\n"
     ]
    },
    {
     "name": "stdout",
     "output_type": "stream",
     "text": [
      "You got 2/3 Correct!\n"
     ]
    }
   ],
   "source": [
    "def run_test(questions):\n",
    "    score=0\n",
    "    for question in questions:\n",
    "        answer=input(question.prompt)\n",
    "        if(answer == question.answer):\n",
    "            score+=1\n",
    "    print(\"You got \"+ str(score)+\"/\"+str(len(questions))+\" Correct!\")\n",
    "\n",
    "run_test(questions)"
   ]
  },
  {
   "cell_type": "code",
   "execution_count": 8,
   "metadata": {},
   "outputs": [],
   "source": [
    "class Student:\n",
    "    def __init__(self,name,major,gpa):\n",
    "        self.name=name\n",
    "        self.major=major\n",
    "        self.gpa=gpa\n",
    "    \n",
    "    def on_honor_roll(self):\n",
    "        if(self.gpa >=3.5):\n",
    "            return True\n",
    "        else:\n",
    "            return False"
   ]
  },
  {
   "cell_type": "code",
   "execution_count": 10,
   "metadata": {},
   "outputs": [
    {
     "name": "stdout",
     "output_type": "stream",
     "text": [
      "False\n"
     ]
    }
   ],
   "source": [
    "student1=Student(\"Oscar\",\"Accounting\",3.1)\n",
    "student2=Student(\"Phyllis\",\"Business\",3.8)\n",
    "print(student1.on_honor_roll())\n"
   ]
  }
 ],
 "metadata": {
  "kernelspec": {
   "display_name": "Python [conda env:pyvizenv] *",
   "language": "python",
   "name": "conda-env-pyvizenv-py"
  },
  "language_info": {
   "codemirror_mode": {
    "name": "ipython",
    "version": 3
   },
   "file_extension": ".py",
   "mimetype": "text/x-python",
   "name": "python",
   "nbconvert_exporter": "python",
   "pygments_lexer": "ipython3",
   "version": "3.8.5"
  }
 },
 "nbformat": 4,
 "nbformat_minor": 4
}
