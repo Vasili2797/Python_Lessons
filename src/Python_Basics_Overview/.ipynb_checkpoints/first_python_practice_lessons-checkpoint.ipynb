{
 "cells": [
  {
   "cell_type": "code",
   "execution_count": 4,
   "metadata": {},
   "outputs": [
    {
     "name": "stdout",
     "output_type": "stream",
     "text": [
      "[0|0] [0|1] [0|2] [0|3] [0|4] [0|5] [0|6] \n",
      "[1|1] [1|2] [1|3] [1|4] [1|5] [1|6] \n",
      "[2|2] [2|3] [2|4] [2|5] [2|6] \n",
      "[3|3] [3|4] [3|5] [3|6] \n",
      "[4|4] [4|5] [4|6] \n",
      "[5|5] [5|6] \n",
      "[6|6] \n"
     ]
    }
   ],
   "source": [
    "import os\n",
    "import pandas as pd\n",
    "import numpy as np\n",
    "\n",
    "for left in range(7):\n",
    "    for right in range(left, 7):\n",
    "        print(\"[\" + str(left) + \"|\" + str(right) + \"]\", end=\" \")\n",
    "    print()\n"
   ]
  },
  {
   "cell_type": "code",
   "execution_count": 5,
   "metadata": {},
   "outputs": [
    {
     "name": "stdout",
     "output_type": "stream",
     "text": [
      "Liverpool FC vs FC Barcelona\n",
      "Liverpool FC vs Real Madrid FC\n",
      "Liverpool FC vs Manchester City F.C.\n",
      "FC Barcelona vs Liverpool FC\n",
      "FC Barcelona vs Real Madrid FC\n",
      "FC Barcelona vs Manchester City F.C.\n",
      "Real Madrid FC vs Liverpool FC\n",
      "Real Madrid FC vs FC Barcelona\n",
      "Real Madrid FC vs Manchester City F.C.\n",
      "Manchester City F.C. vs Liverpool FC\n",
      "Manchester City F.C. vs FC Barcelona\n",
      "Manchester City F.C. vs Real Madrid FC\n"
     ]
    }
   ],
   "source": [
    "teams = ['Liverpool FC', 'FC Barcelona', 'Real Madrid FC', 'Manchester City F.C.']\n",
    "for home_team in teams:\n",
    "    for away_team in teams:\n",
    "        if home_team != away_team:\n",
    "            print(home_team + \" vs \" + away_team)\n",
    "        "
   ]
  },
  {
   "cell_type": "code",
   "execution_count": 6,
   "metadata": {},
   "outputs": [
    {
     "name": "stdout",
     "output_type": "stream",
     "text": [
      "25\n"
     ]
    }
   ],
   "source": [
    "for x in [25]:\n",
    "    print(x)"
   ]
  },
  {
   "cell_type": "code",
   "execution_count": 8,
   "metadata": {},
   "outputs": [
    {
     "name": "stdout",
     "output_type": "stream",
     "text": [
      "0\n",
      "1\n",
      "2\n",
      "3\n",
      "4\n",
      "5\n",
      "6\n",
      "7\n",
      "8\n",
      "9\n",
      "10\n",
      "11\n",
      "12\n",
      "13\n",
      "14\n",
      "15\n",
      "16\n",
      "17\n",
      "18\n",
      "19\n",
      "20\n",
      "21\n",
      "22\n",
      "23\n",
      "24\n"
     ]
    }
   ],
   "source": [
    "for x in range(25):\n",
    "    print(x)"
   ]
  },
  {
   "cell_type": "code",
   "execution_count": 15,
   "metadata": {},
   "outputs": [
    {
     "name": "stdin",
     "output_type": "stream",
     "text": [
      "Please write the number:  25\n"
     ]
    },
    {
     "name": "stdout",
     "output_type": "stream",
     "text": [
      "you are correct\n"
     ]
    }
   ],
   "source": [
    "input1=input((\"Please write the number: \"))\n",
    "if input1 < str(25):\n",
    "    print(\"Too small\")\n",
    "elif input1 > str(25):\n",
    "    print(\"Too large\")\n",
    "else:\n",
    "    print(\"you are correct\")"
   ]
  },
  {
   "cell_type": "code",
   "execution_count": 9,
   "metadata": {},
   "outputs": [
    {
     "name": "stdout",
     "output_type": "stream",
     "text": [
      "Give me a F!\n",
      "F!\n",
      "Give me a I!\n",
      "I!\n",
      "Give me a N!\n",
      "N!\n",
      "Give me a T!\n",
      "T!\n",
      "Give me a E!\n",
      "E!\n",
      "Give me a C!\n",
      "C!\n",
      "Give me a H!\n",
      "H!\n",
      "\n",
      "What does that spell?!\n",
      "FinTech!\n",
      "Woohoo! Go FinTech!\n",
      "*\\O/**\\O/**\\O/*\n",
      "ヘ( ^o^)ノ＼(^_^ )\n"
     ]
    }
   ],
   "source": [
    "# Create a variable named cheer and give it a word to cheer (i.e. Python or FinTech)\n",
    "cheer = \"FinTech\"\n",
    "\n",
    "\n",
    "# Below strings can be used to add fun\n",
    "cheer_symbol = \"*\\O/*\"\n",
    "cheer_symbol_2 = \"ヘ( ^o^)ノ＼(^_^ )\"\n",
    "\n",
    "# Loop through string and print each letter with a cheer\n",
    "for letter in cheer:\n",
    "    print(\"Give me a \"+letter.upper() + \"!\")\n",
    "    print(letter.upper() +\"!\")\n",
    "\n",
    "# Print excitement to screen\n",
    "print(\"\\nWhat does that spell?!\")\n",
    "print(cheer + \"!\\nWoohoo! Go \" + cheer + \"!\")\n",
    "print(cheer_symbol * 3)\n",
    "print(cheer_symbol_2)"
   ]
  },
  {
   "cell_type": "code",
   "execution_count": 18,
   "metadata": {},
   "outputs": [
    {
     "name": "stdout",
     "output_type": "stream",
     "text": [
      "-18.60 Recommendation: buy\n"
     ]
    }
   ],
   "source": [
    "\"\"\"\n",
    "Conditionally Yours\n",
    "\n",
    "Pseudocode:\n",
    "1. Initialize variables original_price, current_price, increase, percent_increase, recommendation, threshold_to_buy, and threshold_to_sell\n",
    "2. Compoute increase\n",
    "3. Compute percent_increase\n",
    "4. IF percent_increase is greater than or equal to threshold_to_sell\n",
    "        THEN Set recommendation to \"sell\"\n",
    "    ELSE IF percent_increase is less than or equal to threshold_to_buy\n",
    "        THEN set recommendation to \"buy\"\n",
    "    ELSE IF percent_increase is less than threshold_to_sell and greater than threshold_to_buy\n",
    "        THEN set recommendation to \"hold\"\n",
    "    ELSE\n",
    "        THEN print(\"Not enough data to make a decision. Need human input\")\n",
    "5. Print(\"Recommendation: \" + recommendation)\n",
    "\"\"\"\n",
    "#Increase = current_price - Original_price\n",
    "#perc_increase = (increase / Original_price) *100\n",
    "Original_price = 360.35\n",
    "current_price = 293.33\n",
    "increase = current_price - Original_price\n",
    "perc_increase = (increase/Original_price) *100\n",
    "threshold_to_sell=20.00\n",
    "threshold_to_buy=-10.00\n",
    "recommendation=\"buy\"\n",
    "if (perc_increase >= threshold_to_sell):\n",
    "    recommendation= \"sell\"\n",
    "elif(perc_increase <= threshold_to_buy):\n",
    "    recommendation= \"buy\"\n",
    "elif(perc_increase >threshold_to_sell and perc_increase>threshold_to_buy):\n",
    "    recommendation= \"hold\"\n",
    "else:\n",
    "    print(\"Not enough data to make a decision. Need human input!\")\n",
    "\n",
    "print(str(\"{:.2f}\".format(perc_increase)) +\" Recommendation: \"+recommendation)\n",
    "#\"{:.2f}\".format(a_float)\n"
   ]
  },
  {
   "cell_type": "code",
   "execution_count": 19,
   "metadata": {},
   "outputs": [
    {
     "name": "stdout",
     "output_type": "stream",
     "text": [
      "Oooo needs some work\n",
      "Question 2 works!\n",
      "You are of drinking age!\n",
      "GOT QUESTION 4!\n",
      "Can ride bumper cars\n"
     ]
    }
   ],
   "source": [
    "# 1.\n",
    "x = 5\n",
    "y = 10\n",
    "if 2 * x > 10:\n",
    "    print(\"Question 1 works!\")\n",
    "else:\n",
    "    print(\"Oooo needs some work\")\n",
    "\n",
    "# 2.\n",
    "x = 5\n",
    "y = 10\n",
    "if len(\"Dog\") < x:\n",
    "    print(\"Question 2 works!\")\n",
    "else:\n",
    "    print(\"Still missing out\")\n",
    "\n",
    "# 3.\n",
    "age = 21\n",
    "if age > 20:\n",
    "    print(\"You are of drinking age!\")\n",
    "else:\n",
    "    print(\"Argggggh! You think you can hoodwink me, matey?! You're too young to drink!\")\n",
    "\n",
    "# 4.\n",
    "x = 2\n",
    "y = 5\n",
    "if (x ** 3 >= y) and (y ** 2 < 26):\n",
    "    print(\"GOT QUESTION 4!\")\n",
    "else:\n",
    "    print(\"Oh good you can count\")\n",
    "\n",
    "# 5.\n",
    "height = 66\n",
    "age = 16\n",
    "adult_permission = True\n",
    "\n",
    "if (height > 70) and (age >= 18):\n",
    "    print(\"Can ride all the roller coasters\")\n",
    "elif (height > 65) and (age >= 18):\n",
    "    print(\"Can ride moderate roller coasters\")\n",
    "elif (height > 60) and (age >= 18):\n",
    "    print(\"Can ride light roller coasters\")\n",
    "elif ((height > 50) and (age >= 18)) or ((adult_permission) and (height > 50)):\n",
    "    print(\"Can ride bumper cars\")\n",
    "else:\n",
    "    print(\"Stick to lazy river\")\n"
   ]
  },
  {
   "cell_type": "code",
   "execution_count": null,
   "metadata": {},
   "outputs": [],
   "source": []
  }
 ],
 "metadata": {
  "kernelspec": {
   "display_name": "Python [conda env:pyvizenv] *",
   "language": "python",
   "name": "conda-env-pyvizenv-py"
  },
  "language_info": {
   "codemirror_mode": {
    "name": "ipython",
    "version": 3
   },
   "file_extension": ".py",
   "mimetype": "text/x-python",
   "name": "python",
   "nbconvert_exporter": "python",
   "pygments_lexer": "ipython3",
   "version": "3.8.5"
  }
 },
 "nbformat": 4,
 "nbformat_minor": 4
}
