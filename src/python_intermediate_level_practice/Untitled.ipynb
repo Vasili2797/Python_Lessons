{
 "cells": [
  {
   "cell_type": "code",
   "execution_count": 1,
   "metadata": {},
   "outputs": [],
   "source": [
    "import requests\n",
    "from pprint import pprint"
   ]
  },
  {
   "cell_type": "code",
   "execution_count": 4,
   "metadata": {},
   "outputs": [
    {
     "name": "stdin",
     "output_type": "stream",
     "text": [
      "Enter your Desired Location:  Tbilisi\n"
     ]
    },
    {
     "name": "stdout",
     "output_type": "stream",
     "text": [
      "{'base': 'stations',\n",
      " 'clouds': {'all': 40},\n",
      " 'cod': 200,\n",
      " 'coord': {'lat': 41.6941, 'lon': 44.8337},\n",
      " 'dt': 1648483023,\n",
      " 'id': 611717,\n",
      " 'main': {'feels_like': 270.85,\n",
      "          'humidity': 45,\n",
      "          'pressure': 1027,\n",
      "          'temp': 276.99,\n",
      "          'temp_max': 276.99,\n",
      "          'temp_min': 276.99},\n",
      " 'name': 'Tbilisi',\n",
      " 'sys': {'country': 'GE',\n",
      "         'id': 8862,\n",
      "         'sunrise': 1648435850,\n",
      "         'sunset': 1648480834,\n",
      "         'type': 1},\n",
      " 'timezone': 14400,\n",
      " 'visibility': 10000,\n",
      " 'weather': [{'description': 'scattered clouds',\n",
      "              'icon': '03n',\n",
      "              'id': 802,\n",
      "              'main': 'Clouds'}],\n",
      " 'wind': {'deg': 310, 'speed': 11.32}}\n"
     ]
    }
   ],
   "source": [
    "API_Key = '6b71ec556b50cefb0e4ae4488804f3cd'\n",
    "\n",
    "location=input(\"Enter your Desired Location: \")\n",
    "weather_url=f\"http://api.openweathermap.org/data/2.5/weather?q={location}&appid=\"\n",
    "final_url=weather_url+API_Key\n",
    "weather_data = requests.get(final_url).json()\n",
    "pprint(weather_data)"
   ]
  },
  {
   "cell_type": "code",
   "execution_count": 5,
   "metadata": {},
   "outputs": [],
   "source": [
    "#This is a pop-up weather app on computer using Python\n",
    "from tkinter import *\n",
    "from configparser import ConfigParser\n",
    "from tkinter import messagebox\n",
    "import requests\n"
   ]
  },
  {
   "cell_type": "code",
   "execution_count": 6,
   "metadata": {},
   "outputs": [
    {
     "data": {
      "text/plain": [
       "''"
      ]
     },
     "execution_count": 6,
     "metadata": {},
     "output_type": "execute_result"
    }
   ],
   "source": [
    "root = Tk()\n",
    "root.title(\"Weather-App\")\n",
    "root.config(background=\"light blue\")\n",
    "root.geometry(\"700x400\")"
   ]
  },
  {
   "cell_type": "code",
   "execution_count": 7,
   "metadata": {},
   "outputs": [],
   "source": [
    "search_city = StringVar()\n",
    "entrer_city = Entry(root, textvariable=search_city, fg=\"black\", font=(\"Times New Roman\",30,\"bold\"))\n",
    "entrer_city.pack()\n",
    "\n",
    "#search_button = Button(root, text=\"Enter The city for weather!\", width=20, bg=\"red\",fg=\"white\",font=(\"Times New Roman\", 30, \"bold\"))\n",
    "location_search = Label(root, text=\"\",font=(\"Times New Roman\",35,\"bold\"),bg=\"lightblue\")\n",
    "location_search.pack()\n",
    "\n",
    "temperature_entry = Label(root, text=\"\",font=(\"Arial\",35,\"bold\"),bg=\"light pink\")\n",
    "\n",
    "weather_entry = Label(root,text=\"\",font=(\"Arial\",35,\"bold\"),bg=\"light green\")\n",
    "weather_entry.pack()"
   ]
  },
  {
   "cell_type": "code",
   "execution_count": 8,
   "metadata": {},
   "outputs": [],
   "source": [
    "root.mainloop()"
   ]
  },
  {
   "cell_type": "code",
   "execution_count": null,
   "metadata": {},
   "outputs": [],
   "source": []
  }
 ],
 "metadata": {
  "kernelspec": {
   "display_name": "Python [conda env:pyvizenv] *",
   "language": "python",
   "name": "conda-env-pyvizenv-py"
  },
  "language_info": {
   "codemirror_mode": {
    "name": "ipython",
    "version": 3
   },
   "file_extension": ".py",
   "mimetype": "text/x-python",
   "name": "python",
   "nbconvert_exporter": "python",
   "pygments_lexer": "ipython3",
   "version": "3.8.5"
  }
 },
 "nbformat": 4,
 "nbformat_minor": 4
}
