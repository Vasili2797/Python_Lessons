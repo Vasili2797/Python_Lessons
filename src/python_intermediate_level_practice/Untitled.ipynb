{
 "cells": [
  {
   "cell_type": "code",
   "execution_count": 18,
   "metadata": {},
   "outputs": [
    {
     "name": "stdout",
     "output_type": "stream",
     "text": [
      "['banana', 'cherry', 'apple']\n"
     ]
    }
   ],
   "source": [
    "#Lists: ordered, mutable, allows duplicate items\n",
    "mylist = [\"banana\", \"cherry\", \"apple\"]\n",
    "print(mylist)"
   ]
  },
  {
   "cell_type": "code",
   "execution_count": 19,
   "metadata": {},
   "outputs": [
    {
     "name": "stdout",
     "output_type": "stream",
     "text": [
      "[5, True, 'apple', 'apple']\n"
     ]
    }
   ],
   "source": [
    "mylist2 = [5, True, \"apple\", \"apple\"]\n",
    "print(mylist2)"
   ]
  },
  {
   "cell_type": "code",
   "execution_count": 20,
   "metadata": {},
   "outputs": [],
   "source": [
    "#add one list to another\n",
    "mylist.extend(mylist2)"
   ]
  },
  {
   "cell_type": "code",
   "execution_count": 21,
   "metadata": {},
   "outputs": [
    {
     "name": "stdout",
     "output_type": "stream",
     "text": [
      "['banana', 'cherry', 'apple', 5, True, 'apple', 'apple']\n"
     ]
    }
   ],
   "source": [
    "print(mylist)"
   ]
  },
  {
   "cell_type": "code",
   "execution_count": 23,
   "metadata": {},
   "outputs": [
    {
     "name": "stdout",
     "output_type": "stream",
     "text": [
      "['banana', 'cherry', 'apple', 5, True]\n"
     ]
    }
   ],
   "source": [
    "#get rid of all duplicate items in list\n",
    "mylist1=list(dict.fromkeys(mylist))\n",
    "print(mylist1)"
   ]
  },
  {
   "cell_type": "code",
   "execution_count": 41,
   "metadata": {},
   "outputs": [
    {
     "name": "stdout",
     "output_type": "stream",
     "text": [
      "banana, cherry, apple, 5, True, lemon, lemon, "
     ]
    }
   ],
   "source": [
    "for i in mylist1:\n",
    "    print(i, end=\", \")"
   ]
  },
  {
   "cell_type": "code",
   "execution_count": 44,
   "metadata": {},
   "outputs": [
    {
     "name": "stdout",
     "output_type": "stream",
     "text": [
      "amount of items in mylist1 7\n"
     ]
    }
   ],
   "source": [
    "raspberry=\"raspberry\"\n",
    "def raspberry_in_mylist1():\n",
    "    if(raspberry in mylist1):\n",
    "        return True;\n",
    "    else:\n",
    "        return False;\n",
    "raspberry_in_mylist1()\n",
    "print(\"amount of items in mylist1 \"+str(len(mylist1)))"
   ]
  },
  {
   "cell_type": "code",
   "execution_count": 45,
   "metadata": {},
   "outputs": [
    {
     "name": "stdout",
     "output_type": "stream",
     "text": [
      "['banana', 'cherry', 'apple', 5, True, 'lemon']\n"
     ]
    }
   ],
   "source": [
    "#adding an item to the end of the list\n",
    "mylist1=list(dict.fromkeys(mylist))\n",
    "mylist1.append(\"lemon\")\n",
    "print(mylist1)"
   ]
  },
  {
   "cell_type": "code",
   "execution_count": 53,
   "metadata": {},
   "outputs": [
    {
     "name": "stdout",
     "output_type": "stream",
     "text": [
      "['banana', 'cherry', 'apple', 'strawberry', 5, True]\n"
     ]
    }
   ],
   "source": [
    "#adding an item in a specifc index in list\n",
    "mylist1.insert(3,\"strawberry\")\n",
    "print(mylist1)"
   ]
  },
  {
   "cell_type": "code",
   "execution_count": 47,
   "metadata": {},
   "outputs": [
    {
     "name": "stdout",
     "output_type": "stream",
     "text": [
      "lemon\n",
      "['banana', 'cherry', 'apple', 'strawberry', 5, True]\n"
     ]
    }
   ],
   "source": [
    "#pop the last item from a list\n",
    "itemPop=mylist1.pop()\n",
    "print(itemPop)\n",
    "print(mylist1)"
   ]
  },
  {
   "cell_type": "code",
   "execution_count": 54,
   "metadata": {},
   "outputs": [
    {
     "name": "stdout",
     "output_type": "stream",
     "text": [
      "['banana', 'cherry', 'apple', 5, True]\n"
     ]
    }
   ],
   "source": [
    "#remove an item from list\n",
    "itemRemove=mylist1.remove(\"strawberry\")\n",
    "print(mylist1)"
   ]
  },
  {
   "cell_type": "code",
   "execution_count": 57,
   "metadata": {},
   "outputs": [],
   "source": [
    "mylistReverse=mylist1.reverse()"
   ]
  },
  {
   "cell_type": "code",
   "execution_count": 65,
   "metadata": {},
   "outputs": [
    {
     "name": "stdout",
     "output_type": "stream",
     "text": [
      "[True, 'apple', 'cherry', 5, 'banana']\n"
     ]
    }
   ],
   "source": [
    "print(mylist1)"
   ]
  },
  {
   "cell_type": "code",
   "execution_count": 66,
   "metadata": {},
   "outputs": [
    {
     "name": "stdout",
     "output_type": "stream",
     "text": [
      "['apple', 'banana', 'cherry']\n"
     ]
    }
   ],
   "source": [
    "#sort according to alphabet\n",
    "mylist1.remove(5)\n",
    "mylist1.remove(True)\n",
    "mylist1.sort()\n",
    "print(mylist1)"
   ]
  },
  {
   "cell_type": "code",
   "execution_count": 67,
   "metadata": {},
   "outputs": [],
   "source": [
    "myNumberlist=[1,2,3,4,5,6,7,8,9,10,11,12,13,15,14]"
   ]
  },
  {
   "cell_type": "code",
   "execution_count": 69,
   "metadata": {},
   "outputs": [],
   "source": [
    "myNumberlist.sort()"
   ]
  },
  {
   "cell_type": "code",
   "execution_count": 70,
   "metadata": {},
   "outputs": [
    {
     "name": "stdout",
     "output_type": "stream",
     "text": [
      "[1, 2, 3, 4, 5, 6, 7, 8, 9, 10, 11, 12, 13, 14, 15]\n"
     ]
    }
   ],
   "source": [
    "print(myNumberlist)"
   ]
  },
  {
   "cell_type": "code",
   "execution_count": 89,
   "metadata": {},
   "outputs": [
    {
     "name": "stdout",
     "output_type": "stream",
     "text": [
      "[3, 4, 5, 6, 7]\n",
      "[1, 2, 3, 4, 5, 6, 7]\n",
      "[3, 4, 5, 6, 7, 8, 9, 10, 11, 12, 13, 14, 15]\n",
      "[1, 3, 5, 7, 9, 11, 13, 15]\n",
      "[15, 14, 13, 12, 11, 10, 9, 8, 7, 6, 5, 4, 3, 2, 1]\n"
     ]
    }
   ],
   "source": [
    "a=myNumberlist[2:7]\n",
    "b=myNumberlist[:7]\n",
    "c=myNumberlist[2:]\n",
    "d=myNumberlist[::2]#so this writes every second item after the first, so, first, third, fifth etc., two step\n",
    "e=myNumberlist[::-1]#same as reversing a list\n",
    "#tuples share the same optionalities\n",
    "print(a)\n",
    "print(b)\n",
    "print(c)\n",
    "print(d)\n",
    "print(e)"
   ]
  },
  {
   "cell_type": "code",
   "execution_count": 76,
   "metadata": {},
   "outputs": [
    {
     "name": "stdout",
     "output_type": "stream",
     "text": [
      "['banana', 'apple', 'strawberry']\n",
      "['banana', 'apple', 'strawberry', 'peach']\n"
     ]
    }
   ],
   "source": [
    "original_list=[\"banana\",\"apple\",\"strawberry\"]\n",
    "copy_list=original_list\n",
    "print(copy_list)\n",
    "#what happens if I add an item in a list in copy_list\n",
    "copy_list.append(\"peach\")\n",
    "print(original_list)"
   ]
  },
  {
   "cell_type": "code",
   "execution_count": 80,
   "metadata": {},
   "outputs": [
    {
     "name": "stdout",
     "output_type": "stream",
     "text": [
      "['banana', 'apple', 'strawberry', 'peach']\n",
      "Properly copied list to have no errors:['banana', 'apple', 'strawberry', 'peach', 'blueberry', 'raspberry']\n",
      "Original list:['banana', 'apple', 'strawberry', 'peach']\n"
     ]
    }
   ],
   "source": [
    "#to avoid a mistake of adding item to a copy list, but getting that also in original do this\n",
    "proper_copy_list=original_list.copy()\n",
    "print(proper_copy_list)\n",
    "#add some items\n",
    "proper_copy_list.append(\"blueberry\")\n",
    "proper_copy_list.append(\"raspberry\")\n",
    "print(\"Properly copied list to have no errors\", end=\":\")\n",
    "print(proper_copy_list)\n",
    "print(\"Original list\", end=\":\")\n",
    "print(original_list)"
   ]
  },
  {
   "cell_type": "code",
   "execution_count": 82,
   "metadata": {},
   "outputs": [
    {
     "name": "stdout",
     "output_type": "stream",
     "text": [
      "[1, 2, 3, 4, 5, 6, 7, 8, 9, 10]\n",
      "[1, 4, 9, 16, 25, 36, 49, 64, 81, 100]\n"
     ]
    }
   ],
   "source": [
    "mylist=[1,2,3,4,5,6,7,8,9,10]\n",
    "b=[i*i for i in mylist]\n",
    "print(mylist)\n",
    "print(b)"
   ]
  },
  {
   "cell_type": "code",
   "execution_count": 85,
   "metadata": {},
   "outputs": [
    {
     "name": "stdout",
     "output_type": "stream",
     "text": [
      "['Jon', 28, 'Miami']\n",
      "<class 'str'>\n",
      "<class 'tuple'>\n",
      "('Jon', 28, 'Miami')\n"
     ]
    }
   ],
   "source": [
    "#what is a tuple?\n",
    "#A Tuple is a collection of Python objects separated by commas. In someways a tuple is similar to a list in terms of indexing,\n",
    "#nested objects and repetition but a tuple is immutable unlike lists which are mutable\n",
    "#define: mutable\n",
    "#prone to change\n",
    "#create a tuple\n",
    "myTuple=[\"Jon\", 28, \"Miami\"]\n",
    "print(myTuple)\n",
    "mytupleString=(\"Jon\")\n",
    "print(type(mytupleString))\n",
    "mytupleString=(\"Jon\",)\n",
    "print(type(mytupleString))\n",
    "#best option\n",
    "myTupleItems = tuple([\"Jon\",28,\"Miami\"])\n",
    "print(myTupleItems)"
   ]
  },
  {
   "cell_type": "code",
   "execution_count": 88,
   "metadata": {},
   "outputs": [
    {
     "name": "stdout",
     "output_type": "stream",
     "text": [
      "tuple object does not support item assignment\n"
     ]
    }
   ],
   "source": [
    "#try to change anything in tuple\n",
    "try:\n",
    "    myTupleItems[0]=\"Nathan\"\n",
    "except:\n",
    "    print(\"tuple object does not support item assignment\")"
   ]
  },
  {
   "cell_type": "code",
   "execution_count": 91,
   "metadata": {},
   "outputs": [
    {
     "name": "stdout",
     "output_type": "stream",
     "text": [
      "('Jon', 28, 'Miami')\n",
      "<class 'tuple'>\n"
     ]
    }
   ],
   "source": [
    "print(myTupleItems)\n",
    "print(type(myTupleItems))"
   ]
  },
  {
   "cell_type": "code",
   "execution_count": 95,
   "metadata": {},
   "outputs": [
    {
     "name": "stdout",
     "output_type": "stream",
     "text": [
      "Jon\n",
      "28\n",
      "Miami\n"
     ]
    }
   ],
   "source": [
    "#We can make each item in tuple be equal toa specific assigned variable\n",
    "#Unpacking values in tuple\n",
    "name,age,city = myTupleItems\n",
    "print(name)\n",
    "print(age)\n",
    "print(city)"
   ]
  },
  {
   "cell_type": "code",
   "execution_count": 96,
   "metadata": {},
   "outputs": [
    {
     "name": "stdout",
     "output_type": "stream",
     "text": [
      "0\n",
      "5\n",
      "[1, 2, 3, 4]\n"
     ]
    }
   ],
   "source": [
    "myTupleNums = (0,1,2,3,4,5)\n",
    "i1, *i2, i3=myTupleNums\n",
    "print(i1)\n",
    "print(i3)\n",
    "print(i2)"
   ]
  },
  {
   "cell_type": "code",
   "execution_count": 99,
   "metadata": {},
   "outputs": [
    {
     "name": "stdout",
     "output_type": "stream",
     "text": [
      "96 bytes\n",
      "80 bytes\n"
     ]
    }
   ],
   "source": [
    "import sys\n",
    "my_list=[0,1,2,\"hello\", True]\n",
    "my_tuple = (0,1,2,\"hello\", True)\n",
    "print(sys.getsizeof(my_list), \"bytes\")\n",
    "print(sys.getsizeof(my_tuple),\"bytes\")\n",
    "#So list is larger than tuple. So it is efficient to use tuple for memory saving\n"
   ]
  },
  {
   "cell_type": "code",
   "execution_count": 105,
   "metadata": {},
   "outputs": [
    {
     "name": "stdout",
     "output_type": "stream",
     "text": [
      "0.05827259999932721\n",
      "0.009227099999407073\n"
     ]
    }
   ],
   "source": [
    "import timeit\n",
    "print(timeit.timeit(stmt=\"[0,1,2,'hello', True]\", number=1000000))#million times we want to crate a list\n",
    "print(timeit.timeit(stmt=\"(0,1,2,'hello', True)\", number=1000000))#million times we want to create a tuple\n",
    "#so tuple is faster, efficient"
   ]
  },
  {
   "cell_type": "code",
   "execution_count": 115,
   "metadata": {},
   "outputs": [
    {
     "name": "stdout",
     "output_type": "stream",
     "text": [
      "{'name': 'Max', 'age': '28', 'city': 'Miami'}\n",
      "{'name': 'John', 'age': '30', 'city': 'Madrid'}\n",
      "Max\n"
     ]
    }
   ],
   "source": [
    "#Dictionary: Key-Value pairs, unordered, Mutable\n",
    "mydict={\"name\": \"Max\", \"age\":\"28\", \"city\":\"Miami\"}\n",
    "print(mydict)\n",
    "\n",
    "#another way of making a dictionary\n",
    "mydict2=dict(name=\"John\", age=\"30\", city=\"Madrid\")\n",
    "print(mydict2)\n",
    "\n",
    "#to get the value of a specific item in a dictionary\n",
    "#preferable method\n",
    "value=mydict[\"name\"]\n",
    "print(value)\n",
    "\n",
    "#value1=mydict2[name]\n",
    "#print(value1)"
   ]
  },
  {
   "cell_type": "code",
   "execution_count": null,
   "metadata": {},
   "outputs": [],
   "source": []
  }
 ],
 "metadata": {
  "kernelspec": {
   "display_name": "Python [conda env:pyvizenv] *",
   "language": "python",
   "name": "conda-env-pyvizenv-py"
  },
  "language_info": {
   "codemirror_mode": {
    "name": "ipython",
    "version": 3
   },
   "file_extension": ".py",
   "mimetype": "text/x-python",
   "name": "python",
   "nbconvert_exporter": "python",
   "pygments_lexer": "ipython3",
   "version": "3.8.5"
  }
 },
 "nbformat": 4,
 "nbformat_minor": 4
}
