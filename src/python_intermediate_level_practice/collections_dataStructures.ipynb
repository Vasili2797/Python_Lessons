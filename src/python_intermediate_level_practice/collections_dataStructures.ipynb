{
 "cells": [
  {
   "cell_type": "code",
   "execution_count": 2,
   "metadata": {},
   "outputs": [
    {
     "name": "stdout",
     "output_type": "stream",
     "text": [
      "['banana', 'cherry', 'apple']\n"
     ]
    }
   ],
   "source": [
    "#Lists: ordered, mutable, allows duplicate items\n",
    "mylist = [\"banana\", \"cherry\", \"apple\"]\n",
    "print(mylist)"
   ]
  },
  {
   "cell_type": "code",
   "execution_count": 3,
   "metadata": {},
   "outputs": [
    {
     "name": "stdout",
     "output_type": "stream",
     "text": [
      "[5, True, 'apple', 'apple']\n"
     ]
    }
   ],
   "source": [
    "mylist2 = [5, True, \"apple\", \"apple\"]\n",
    "print(mylist2)"
   ]
  },
  {
   "cell_type": "code",
   "execution_count": 4,
   "metadata": {},
   "outputs": [],
   "source": [
    "#add one list to another\n",
    "mylist.extend(mylist2)"
   ]
  },
  {
   "cell_type": "code",
   "execution_count": 5,
   "metadata": {},
   "outputs": [
    {
     "name": "stdout",
     "output_type": "stream",
     "text": [
      "['banana', 'cherry', 'apple', 5, True, 'apple', 'apple']\n"
     ]
    }
   ],
   "source": [
    "print(mylist)"
   ]
  },
  {
   "cell_type": "code",
   "execution_count": 6,
   "metadata": {},
   "outputs": [
    {
     "name": "stdout",
     "output_type": "stream",
     "text": [
      "['banana', 'cherry', 'apple', 5, True]\n"
     ]
    }
   ],
   "source": [
    "#get rid of all duplicate items in list\n",
    "mylist1=list(dict.fromkeys(mylist))\n",
    "print(mylist1)"
   ]
  },
  {
   "cell_type": "code",
   "execution_count": 7,
   "metadata": {},
   "outputs": [
    {
     "name": "stdout",
     "output_type": "stream",
     "text": [
      "banana, cherry, apple, 5, True, "
     ]
    }
   ],
   "source": [
    "for i in mylist1:\n",
    "    print(i, end=\", \")"
   ]
  },
  {
   "cell_type": "code",
   "execution_count": 8,
   "metadata": {},
   "outputs": [
    {
     "name": "stdout",
     "output_type": "stream",
     "text": [
      "amount of items in mylist1 5\n"
     ]
    }
   ],
   "source": [
    "raspberry=\"raspberry\"\n",
    "def raspberry_in_mylist1():\n",
    "    if(raspberry in mylist1):\n",
    "        return True;\n",
    "    else:\n",
    "        return False;\n",
    "raspberry_in_mylist1()\n",
    "print(\"amount of items in mylist1 \"+str(len(mylist1)))"
   ]
  },
  {
   "cell_type": "code",
   "execution_count": 9,
   "metadata": {},
   "outputs": [
    {
     "name": "stdout",
     "output_type": "stream",
     "text": [
      "['banana', 'cherry', 'apple', 5, True, 'lemon']\n"
     ]
    }
   ],
   "source": [
    "#adding an item to the end of the list\n",
    "mylist1=list(dict.fromkeys(mylist))\n",
    "mylist1.append(\"lemon\")\n",
    "print(mylist1)"
   ]
  },
  {
   "cell_type": "code",
   "execution_count": 10,
   "metadata": {},
   "outputs": [
    {
     "name": "stdout",
     "output_type": "stream",
     "text": [
      "['banana', 'cherry', 'apple', 'strawberry', 5, True, 'lemon']\n"
     ]
    }
   ],
   "source": [
    "#adding an item in a specifc index in list\n",
    "mylist1.insert(3,\"strawberry\")\n",
    "print(mylist1)"
   ]
  },
  {
   "cell_type": "code",
   "execution_count": 11,
   "metadata": {},
   "outputs": [
    {
     "name": "stdout",
     "output_type": "stream",
     "text": [
      "lemon\n",
      "['banana', 'cherry', 'apple', 'strawberry', 5, True]\n"
     ]
    }
   ],
   "source": [
    "#pop the last item from a list\n",
    "itemPop=mylist1.pop()\n",
    "print(itemPop)\n",
    "print(mylist1)"
   ]
  },
  {
   "cell_type": "code",
   "execution_count": 12,
   "metadata": {},
   "outputs": [
    {
     "name": "stdout",
     "output_type": "stream",
     "text": [
      "['banana', 'cherry', 'apple', 5, True]\n"
     ]
    }
   ],
   "source": [
    "#remove an item from list\n",
    "itemRemove=mylist1.remove(\"strawberry\")\n",
    "print(mylist1)"
   ]
  },
  {
   "cell_type": "code",
   "execution_count": 13,
   "metadata": {},
   "outputs": [],
   "source": [
    "mylistReverse=mylist1.reverse()"
   ]
  },
  {
   "cell_type": "code",
   "execution_count": 14,
   "metadata": {},
   "outputs": [
    {
     "name": "stdout",
     "output_type": "stream",
     "text": [
      "[True, 5, 'apple', 'cherry', 'banana']\n"
     ]
    }
   ],
   "source": [
    "print(mylist1)"
   ]
  },
  {
   "cell_type": "code",
   "execution_count": 15,
   "metadata": {},
   "outputs": [
    {
     "name": "stdout",
     "output_type": "stream",
     "text": [
      "['apple', 'banana', 'cherry']\n"
     ]
    }
   ],
   "source": [
    "#sort according to alphabet\n",
    "mylist1.remove(5)\n",
    "mylist1.remove(True)\n",
    "mylist1.sort()\n",
    "print(mylist1)"
   ]
  },
  {
   "cell_type": "code",
   "execution_count": 16,
   "metadata": {},
   "outputs": [],
   "source": [
    "myNumberlist=[1,2,3,4,5,6,7,8,9,10,11,12,13,15,14]"
   ]
  },
  {
   "cell_type": "code",
   "execution_count": 17,
   "metadata": {},
   "outputs": [],
   "source": [
    "myNumberlist.sort()"
   ]
  },
  {
   "cell_type": "code",
   "execution_count": 18,
   "metadata": {},
   "outputs": [
    {
     "name": "stdout",
     "output_type": "stream",
     "text": [
      "[1, 2, 3, 4, 5, 6, 7, 8, 9, 10, 11, 12, 13, 14, 15]\n"
     ]
    }
   ],
   "source": [
    "print(myNumberlist)"
   ]
  },
  {
   "cell_type": "code",
   "execution_count": 19,
   "metadata": {},
   "outputs": [
    {
     "name": "stdout",
     "output_type": "stream",
     "text": [
      "[3, 4, 5, 6, 7]\n",
      "[1, 2, 3, 4, 5, 6, 7]\n",
      "[3, 4, 5, 6, 7, 8, 9, 10, 11, 12, 13, 14, 15]\n",
      "[1, 3, 5, 7, 9, 11, 13, 15]\n",
      "[15, 14, 13, 12, 11, 10, 9, 8, 7, 6, 5, 4, 3, 2, 1]\n"
     ]
    }
   ],
   "source": [
    "a=myNumberlist[2:7]\n",
    "b=myNumberlist[:7]\n",
    "c=myNumberlist[2:]\n",
    "d=myNumberlist[::2]#so this writes every second item after the first, so, first, third, fifth etc., two step\n",
    "e=myNumberlist[::-1]#same as reversing a list\n",
    "#tuples share the same optionalities\n",
    "print(a)\n",
    "print(b)\n",
    "print(c)\n",
    "print(d)\n",
    "print(e)"
   ]
  },
  {
   "cell_type": "code",
   "execution_count": 20,
   "metadata": {},
   "outputs": [
    {
     "name": "stdout",
     "output_type": "stream",
     "text": [
      "['banana', 'apple', 'strawberry']\n",
      "['banana', 'apple', 'strawberry', 'peach']\n"
     ]
    }
   ],
   "source": [
    "original_list=[\"banana\",\"apple\",\"strawberry\"]\n",
    "copy_list=original_list\n",
    "print(copy_list)\n",
    "#what happens if I add an item in a list in copy_list\n",
    "copy_list.append(\"peach\")\n",
    "print(original_list)"
   ]
  },
  {
   "cell_type": "code",
   "execution_count": 21,
   "metadata": {},
   "outputs": [
    {
     "name": "stdout",
     "output_type": "stream",
     "text": [
      "['banana', 'apple', 'strawberry', 'peach']\n",
      "Properly copied list to have no errors:['banana', 'apple', 'strawberry', 'peach', 'blueberry', 'raspberry']\n",
      "Original list:['banana', 'apple', 'strawberry', 'peach']\n"
     ]
    }
   ],
   "source": [
    "#to avoid a mistake of adding item to a copy list, but getting that also in original do this\n",
    "proper_copy_list=original_list.copy()\n",
    "print(proper_copy_list)\n",
    "#add some items\n",
    "proper_copy_list.append(\"blueberry\")\n",
    "proper_copy_list.append(\"raspberry\")\n",
    "print(\"Properly copied list to have no errors\", end=\":\")\n",
    "print(proper_copy_list)\n",
    "print(\"Original list\", end=\":\")\n",
    "print(original_list)"
   ]
  },
  {
   "cell_type": "code",
   "execution_count": 22,
   "metadata": {},
   "outputs": [
    {
     "name": "stdout",
     "output_type": "stream",
     "text": [
      "[1, 2, 3, 4, 5, 6, 7, 8, 9, 10]\n",
      "[1, 4, 9, 16, 25, 36, 49, 64, 81, 100]\n"
     ]
    }
   ],
   "source": [
    "mylist=[1,2,3,4,5,6,7,8,9,10]\n",
    "b=[i*i for i in mylist]\n",
    "print(mylist)\n",
    "print(b)"
   ]
  },
  {
   "cell_type": "code",
   "execution_count": 23,
   "metadata": {},
   "outputs": [
    {
     "name": "stdout",
     "output_type": "stream",
     "text": [
      "['Jon', 28, 'Miami']\n",
      "<class 'str'>\n",
      "<class 'tuple'>\n",
      "('Jon', 28, 'Miami')\n"
     ]
    }
   ],
   "source": [
    "#what is a tuple?\n",
    "#A Tuple is a collection of Python objects separated by commas. In someways a tuple is similar to a list in terms of indexing,\n",
    "#nested objects and repetition but a tuple is immutable unlike lists which are mutable\n",
    "#define: mutable\n",
    "#prone to change\n",
    "#create a tuple\n",
    "myTuple=[\"Jon\", 28, \"Miami\"]\n",
    "print(myTuple)\n",
    "mytupleString=(\"Jon\")\n",
    "print(type(mytupleString))\n",
    "mytupleString=(\"Jon\",)\n",
    "print(type(mytupleString))\n",
    "#best option\n",
    "myTupleItems = tuple([\"Jon\",28,\"Miami\"])\n",
    "print(myTupleItems)"
   ]
  },
  {
   "cell_type": "code",
   "execution_count": 24,
   "metadata": {},
   "outputs": [
    {
     "name": "stdout",
     "output_type": "stream",
     "text": [
      "tuple object does not support item assignment\n"
     ]
    }
   ],
   "source": [
    "#try to change anything in tuple\n",
    "try:\n",
    "    myTupleItems[0]=\"Nathan\"\n",
    "except:\n",
    "    print(\"tuple object does not support item assignment\")"
   ]
  },
  {
   "cell_type": "code",
   "execution_count": 25,
   "metadata": {},
   "outputs": [
    {
     "name": "stdout",
     "output_type": "stream",
     "text": [
      "('Jon', 28, 'Miami')\n",
      "<class 'tuple'>\n"
     ]
    }
   ],
   "source": [
    "print(myTupleItems)\n",
    "print(type(myTupleItems))"
   ]
  },
  {
   "cell_type": "code",
   "execution_count": 26,
   "metadata": {},
   "outputs": [
    {
     "name": "stdout",
     "output_type": "stream",
     "text": [
      "Jon\n",
      "28\n",
      "Miami\n"
     ]
    }
   ],
   "source": [
    "#We can make each item in tuple be equal toa specific assigned variable\n",
    "#Unpacking values in tuple\n",
    "name,age,city = myTupleItems\n",
    "print(name)\n",
    "print(age)\n",
    "print(city)"
   ]
  },
  {
   "cell_type": "code",
   "execution_count": 27,
   "metadata": {},
   "outputs": [
    {
     "name": "stdout",
     "output_type": "stream",
     "text": [
      "0\n",
      "5\n",
      "[1, 2, 3, 4]\n"
     ]
    }
   ],
   "source": [
    "myTupleNums = (0,1,2,3,4,5)\n",
    "i1, *i2, i3=myTupleNums\n",
    "print(i1)\n",
    "print(i3)\n",
    "print(i2)"
   ]
  },
  {
   "cell_type": "code",
   "execution_count": 28,
   "metadata": {},
   "outputs": [
    {
     "name": "stdout",
     "output_type": "stream",
     "text": [
      "96 bytes\n",
      "80 bytes\n"
     ]
    }
   ],
   "source": [
    "import sys\n",
    "my_list=[0,1,2,\"hello\", True]\n",
    "my_tuple = (0,1,2,\"hello\", True)\n",
    "print(sys.getsizeof(my_list), \"bytes\")\n",
    "print(sys.getsizeof(my_tuple),\"bytes\")\n",
    "#So list is larger than tuple. So it is efficient to use tuple for memory saving\n"
   ]
  },
  {
   "cell_type": "code",
   "execution_count": 29,
   "metadata": {},
   "outputs": [
    {
     "name": "stdout",
     "output_type": "stream",
     "text": [
      "0.05986659999999233\n",
      "0.009789799999992965\n"
     ]
    }
   ],
   "source": [
    "import timeit\n",
    "print(timeit.timeit(stmt=\"[0,1,2,'hello', True]\", number=1000000))#million times we want to crate a list\n",
    "print(timeit.timeit(stmt=\"(0,1,2,'hello', True)\", number=1000000))#million times we want to create a tuple\n",
    "#so tuple is faster, efficient"
   ]
  },
  {
   "cell_type": "code",
   "execution_count": 65,
   "metadata": {},
   "outputs": [
    {
     "name": "stdout",
     "output_type": "stream",
     "text": [
      "{'name': 'Max', 'age': '28', 'city': 'Miami'}\n",
      "{'name': 'John', 'age': '30', 'city': 'Madrid'}\n",
      "Max\n"
     ]
    }
   ],
   "source": [
    "#Dictionary: Key-Value pairs, unordered, Mutable\n",
    "mydict={\"name\": \"Max\", \"age\":\"28\", \"city\":\"Miami\"}\n",
    "print(mydict)\n",
    "\n",
    "#another way of making a dictionary\n",
    "mydict2=dict(name=\"John\", age=\"30\", city=\"Madrid\")\n",
    "print(mydict2)\n",
    "\n",
    "#to get the value of a specific item in a dictionary\n",
    "#preferable method\n",
    "value=mydict[\"name\"]\n",
    "print(value)\n",
    "\n",
    "#value1=mydict2[name]\n",
    "#print(value1)"
   ]
  },
  {
   "cell_type": "code",
   "execution_count": 66,
   "metadata": {},
   "outputs": [],
   "source": [
    "#to add a new item in dictionary\n",
    "mydict[\"email\"]=\"max@mail.com\"\n"
   ]
  },
  {
   "cell_type": "code",
   "execution_count": 67,
   "metadata": {},
   "outputs": [
    {
     "name": "stdout",
     "output_type": "stream",
     "text": [
      "{'name': 'Max', 'age': '28', 'city': 'Miami', 'email': 'max@mail.com'}\n",
      "{'name': 'Max', 'age': '28', 'city': 'Miami', 'email': 'newMaxmail@mail.com'}\n"
     ]
    }
   ],
   "source": [
    "print(mydict)\n",
    "#the values can be overwritten\n",
    "mydict[\"email\"]=\"newMaxmail@mail.com\"\n",
    "print(mydict)"
   ]
  },
  {
   "cell_type": "code",
   "execution_count": 68,
   "metadata": {},
   "outputs": [
    {
     "name": "stdout",
     "output_type": "stream",
     "text": [
      "{'age': '28', 'city': 'Miami', 'email': 'newMaxmail@mail.com'}\n",
      "{'city': 'Miami', 'email': 'newMaxmail@mail.com'}\n"
     ]
    }
   ],
   "source": [
    "#deleting an item\n",
    "del mydict[\"name\"]\n",
    "print(mydict)\n",
    "\n",
    "#We can pop it, same as deletion\n",
    "mydict.pop(\"age\")\n",
    "print(mydict)"
   ]
  },
  {
   "cell_type": "code",
   "execution_count": 69,
   "metadata": {},
   "outputs": [
    {
     "name": "stdout",
     "output_type": "stream",
     "text": [
      "{'city': 'Miami', 'email': 'newMaxmail@mail.com', 'age': 28, 'education_level': 'Bachelor'}\n",
      "{'city': 'Miami', 'email': 'newMaxmail@mail.com', 'age': 28}\n"
     ]
    }
   ],
   "source": [
    "#use popitem to delete the last dict entry\n",
    "#before heand let's add back some data\n",
    "mydict[\"age\"]=28\n",
    "mydict[\"education_level\"]=\"Bachelor\"\n",
    "print(mydict)\n",
    "#use popitem\n",
    "mydict.popitem()\n",
    "print(mydict)"
   ]
  },
  {
   "cell_type": "code",
   "execution_count": 70,
   "metadata": {},
   "outputs": [
    {
     "name": "stdout",
     "output_type": "stream",
     "text": [
      "{'city': 'Miami', 'email': 'newMaxmail@mail.com', 'age': 28}\n",
      "Miami\n"
     ]
    }
   ],
   "source": [
    "#check to see if the item is in the dictionary\n",
    "print(mydict)\n",
    "if(\"name\" in mydict):\n",
    "    print(mydict[\"name\"])#apparently I do not hava a name here\n",
    "if(\"city\" in mydict):\n",
    "    print(mydict[\"city\"])"
   ]
  },
  {
   "cell_type": "code",
   "execution_count": 71,
   "metadata": {},
   "outputs": [
    {
     "name": "stdout",
     "output_type": "stream",
     "text": [
      "marital_status does not exist\n"
     ]
    }
   ],
   "source": [
    "#try-except\n",
    "try:\n",
    "    value=\"marital_status\"\n",
    "    print(mydict[value])\n",
    "except:\n",
    "    print(value +\" does not exist\")"
   ]
  },
  {
   "cell_type": "code",
   "execution_count": 72,
   "metadata": {},
   "outputs": [
    {
     "name": "stdout",
     "output_type": "stream",
     "text": [
      "Miami\n",
      "newMaxmail@mail.com\n",
      "28\n",
      "city Miami, email newMaxmail@mail.com, age 28, "
     ]
    }
   ],
   "source": [
    "for value in mydict.values():\n",
    "    print(value)\n",
    "\n",
    "for key,value in mydict.items():\n",
    "    print(key,value,end=\", \")"
   ]
  },
  {
   "cell_type": "code",
   "execution_count": 73,
   "metadata": {},
   "outputs": [
    {
     "name": "stdout",
     "output_type": "stream",
     "text": [
      "{'city': 'Miami', 'email': 'newMaxmail@mail.com', 'age': 28}\n",
      "{'city': 'Madrid', 'email': 'newMaxmail@mail.com', 'age': '30', 'name': 'John'}\n"
     ]
    }
   ],
   "source": [
    "#if we want to update\n",
    "print(mydict)\n",
    "mydict.update(mydict2)\n",
    "print(mydict)"
   ]
  },
  {
   "cell_type": "code",
   "execution_count": 74,
   "metadata": {},
   "outputs": [
    {
     "name": "stdout",
     "output_type": "stream",
     "text": [
      "{2: 4, 3: 9, 4: 16, 5: 25}\n",
      "You use the dict key value, not the index location\n"
     ]
    }
   ],
   "source": [
    "my_dict_nums={2:4, 3:9, 4:16, 5:25}\n",
    "print(my_dict_nums)\n",
    "try:\n",
    "    print(my_dict_nums[1])\n",
    "except:\n",
    "    print(\"You use the dict key value, not the index location\")"
   ]
  },
  {
   "cell_type": "markdown",
   "metadata": {},
   "source": [
    "###   Sets: Unordered, mutable, no duplicates"
   ]
  },
  {
   "cell_type": "code",
   "execution_count": 13,
   "metadata": {},
   "outputs": [
    {
     "name": "stdout",
     "output_type": "stream",
     "text": [
      "{1, 2, 3, 4}\n",
      "{1, 2, 3, 4}\n",
      "{'d', 'y', 'w', 'n', 'f', 'h', 'T', 'a', 'o', 'c', 't', 'e', 'l', 'i', 'm', ' ', 'u', 'r', 's'}\n",
      "19\n",
      "<class 'dict'>\n",
      "<class 'set'>\n"
     ]
    }
   ],
   "source": [
    "myset={1,2,3,4,1,2}\n",
    "print(myset)\n",
    "#different way to make a set\n",
    "myset1=set([1,2,3,4,1,2,3])\n",
    "print(myset1)\n",
    "\n",
    "myset2=set(\"Time to find out how many letters are used in this sentence\")\n",
    "print(myset2)\n",
    "print(len(myset2))\n",
    "#if you want to make an empty set, you must specify it is a set\n",
    "myset3={}\n",
    "print(type(myset3))\n",
    "myset3=set()\n",
    "print(type(myset3))"
   ]
  },
  {
   "cell_type": "code",
   "execution_count": 19,
   "metadata": {},
   "outputs": [
    {
     "name": "stdout",
     "output_type": "stream",
     "text": [
      "set()\n",
      "{1, 4, 7, 9, 10}\n",
      "{4, 7, 9, 10}\n",
      "{4, 7, 9, 10}\n",
      "4\n",
      "{7, 9, 10}\n"
     ]
    }
   ],
   "source": [
    "myNumSet=set()\n",
    "print(myNumSet)\n",
    "#add items\n",
    "myNumSet.add(1)\n",
    "myNumSet.add(4)\n",
    "myNumSet.add(7)\n",
    "myNumSet.add(9)\n",
    "myNumSet.add(10)\n",
    "print(myNumSet)\n",
    "\n",
    "#remove an element... ###If an element does not exist, no exceptions will occur\n",
    "myNumSet.discard(1)\n",
    "print(myNumSet)\n",
    "myNumSet.discard(15)\n",
    "print(myNumSet)\n",
    "print(myNumSet.pop()) #gets rid of the first element in zeroth index, also shows th number which was removed\n",
    "print(myNumSet)"
   ]
  },
  {
   "cell_type": "code",
   "execution_count": 33,
   "metadata": {},
   "outputs": [
    {
     "name": "stdout",
     "output_type": "stream",
     "text": [
      "{1, 2, 3, 4, 5, 6, 7, 8, 9, 10, 11, 12, 13, 14, 15}\n",
      "{11, 3, 5, 7}\n"
     ]
    }
   ],
   "source": [
    "#make a union of sets\n",
    "odds={1,3,5,7,9,11,13,15}\n",
    "evens={2,4,6,8,10,12,14}\n",
    "primes={2,3,5,7,11}\n",
    "\n",
    "u=odds.union(evens)\n",
    "print(u)\n",
    "\n",
    "#find intersection of sets ... never modifies the original sets\n",
    "i=primes.intersection(odds)\n",
    "print(i)"
   ]
  },
  {
   "cell_type": "code",
   "execution_count": 34,
   "metadata": {},
   "outputs": [
    {
     "name": "stdout",
     "output_type": "stream",
     "text": [
      "{2, 10, 5}\n"
     ]
    }
   ],
   "source": [
    "#find difference from first set that are not in the second set  ... never modifies the original sets\n",
    "a={1,2,3,4,5,6,7,8,9,10}\n",
    "b={1,3,4,6,7,8,9}\n",
    "d=a.difference(b)\n",
    "print(d)"
   ]
  },
  {
   "cell_type": "code",
   "execution_count": 53,
   "metadata": {},
   "outputs": [
    {
     "name": "stdout",
     "output_type": "stream",
     "text": [
      "{4, 5, 6, 7, 8, 9, 10, 11, 12}\n"
     ]
    }
   ],
   "source": [
    "setA={1,2,3,4,5,6,7,8,9}\n",
    "setB={1,2,3,10,11,12}\n",
    "\n",
    "#return a set with all elements from both sets that are not available in the other ... never modifies the original sets\n",
    "diff=setB.symmetric_difference(setA)\n",
    "print(diff)"
   ]
  },
  {
   "cell_type": "code",
   "execution_count": 40,
   "metadata": {},
   "outputs": [
    {
     "name": "stdout",
     "output_type": "stream",
     "text": [
      "{1, 2, 3, 4, 5, 6, 7, 8, 9, 10, 11, 12}\n"
     ]
    }
   ],
   "source": [
    "#updates the set by adding elements that are found in another set that are not in the original set\n",
    "setA.update(setB)\n",
    "print(setA)"
   ]
  },
  {
   "cell_type": "code",
   "execution_count": 44,
   "metadata": {},
   "outputs": [
    {
     "name": "stdout",
     "output_type": "stream",
     "text": [
      "{1, 2, 3}\n"
     ]
    }
   ],
   "source": [
    "#updates the elements only by finding elements in both sets\n",
    "setA.intersection_update(setB)\n",
    "print(setA)"
   ]
  },
  {
   "cell_type": "code",
   "execution_count": 50,
   "metadata": {},
   "outputs": [
    {
     "name": "stdout",
     "output_type": "stream",
     "text": [
      "{4, 5, 6, 7, 8, 9}\n"
     ]
    }
   ],
   "source": [
    "#finds the similar elements between sets and removes them from the set. So, setA and setB have 4-9, will only print those\n",
    "setA.difference_update(setB)\n",
    "print(setA)"
   ]
  },
  {
   "cell_type": "code",
   "execution_count": 55,
   "metadata": {},
   "outputs": [
    {
     "name": "stdout",
     "output_type": "stream",
     "text": [
      "{2, 1, 4, 5, 6, 7, 8, 9, 3}\n"
     ]
    }
   ],
   "source": [
    "#finding elements that are in setA and setB, but not in both, and updating the set\n",
    "setA.symmetric_difference_update(setB)\n",
    "print(setA)"
   ]
  },
  {
   "cell_type": "code",
   "execution_count": null,
   "metadata": {},
   "outputs": [],
   "source": []
  },
  {
   "cell_type": "code",
   "execution_count": null,
   "metadata": {},
   "outputs": [],
   "source": []
  },
  {
   "cell_type": "code",
   "execution_count": null,
   "metadata": {},
   "outputs": [],
   "source": []
  },
  {
   "cell_type": "code",
   "execution_count": null,
   "metadata": {},
   "outputs": [],
   "source": []
  },
  {
   "cell_type": "code",
   "execution_count": null,
   "metadata": {},
   "outputs": [],
   "source": []
  },
  {
   "cell_type": "code",
   "execution_count": null,
   "metadata": {},
   "outputs": [],
   "source": []
  },
  {
   "cell_type": "code",
   "execution_count": null,
   "metadata": {},
   "outputs": [],
   "source": []
  },
  {
   "cell_type": "code",
   "execution_count": null,
   "metadata": {},
   "outputs": [],
   "source": []
  },
  {
   "cell_type": "code",
   "execution_count": null,
   "metadata": {},
   "outputs": [],
   "source": []
  },
  {
   "cell_type": "code",
   "execution_count": null,
   "metadata": {},
   "outputs": [],
   "source": []
  },
  {
   "cell_type": "code",
   "execution_count": null,
   "metadata": {},
   "outputs": [],
   "source": []
  },
  {
   "cell_type": "code",
   "execution_count": null,
   "metadata": {},
   "outputs": [],
   "source": []
  },
  {
   "cell_type": "code",
   "execution_count": null,
   "metadata": {},
   "outputs": [],
   "source": []
  },
  {
   "cell_type": "code",
   "execution_count": null,
   "metadata": {},
   "outputs": [],
   "source": []
  },
  {
   "cell_type": "code",
   "execution_count": null,
   "metadata": {},
   "outputs": [],
   "source": []
  },
  {
   "cell_type": "code",
   "execution_count": null,
   "metadata": {},
   "outputs": [],
   "source": []
  },
  {
   "cell_type": "code",
   "execution_count": null,
   "metadata": {},
   "outputs": [],
   "source": []
  },
  {
   "cell_type": "code",
   "execution_count": null,
   "metadata": {},
   "outputs": [],
   "source": []
  },
  {
   "cell_type": "code",
   "execution_count": null,
   "metadata": {},
   "outputs": [],
   "source": []
  },
  {
   "cell_type": "code",
   "execution_count": null,
   "metadata": {},
   "outputs": [],
   "source": []
  }
 ],
 "metadata": {
  "kernelspec": {
   "display_name": "Python [conda env:pyvizenv] *",
   "language": "python",
   "name": "conda-env-pyvizenv-py"
  },
  "language_info": {
   "codemirror_mode": {
    "name": "ipython",
    "version": 3
   },
   "file_extension": ".py",
   "mimetype": "text/x-python",
   "name": "python",
   "nbconvert_exporter": "python",
   "pygments_lexer": "ipython3",
   "version": "3.8.5"
  }
 },
 "nbformat": 4,
 "nbformat_minor": 4
}
